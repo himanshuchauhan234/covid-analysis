{
 "cells": [
  {
   "cell_type": "code",
   "execution_count": 1,
   "metadata": {},
   "outputs": [],
   "source": [
    "import requests\n",
    "import operator\n",
    "from bs4 import BeautifulSoup\n",
    "import pandas as pd\n",
    "import numpy as np\n",
    "import re\n",
    "import pickle\n",
    "from chatterbot import ChatBot\n",
    "from chatterbot.trainers import ChatterBotCorpusTrainer\n",
    "import nltk\n",
    "from nltk.corpus import stopwords\n",
    "from nltk.stem import PorterStemmer\n",
    "from nltk.stem.wordnet import WordNetLemmatizer\n",
    "from sklearn.feature_extraction.text import TfidfVectorizer\n",
    "from scipy import spatial"
   ]
  },
  {
   "cell_type": "code",
   "execution_count": 2,
   "metadata": {},
   "outputs": [],
   "source": [
    "def get_FDA_QA():\n",
    "    URL = 'https://www.fda.gov/emergency-preparedness-and-response/coronavirus-disease-2019-covid-19/covid-19-frequently-asked-questions'\n",
    "    page = requests.get(URL)\n",
    "    soup = BeautifulSoup(page.content, 'html.parser')\n",
    "    results =  soup.find_all(class_=' panel panel-default fda-accordion-panel')\n",
    "    Question=[]\n",
    "    Answer=[]\n",
    "    for element in results:\n",
    "        Q = element.find('a')\n",
    "        Question.append(Q)\n",
    "        A=element.find('p')\n",
    "        Answer.append(A)\n",
    "    Question=pd.DataFrame(Question)\n",
    "    Answer=pd.DataFrame(Answer)\n",
    "    QA=pd.concat([Question, Answer], axis=1, sort=False)\n",
    "    QA.columns = range(QA.shape[1])\n",
    "    QA=QA.rename(columns={0:'Questions',1:\"Answers\"})\n",
    "    QA[\"Questions\"]=QA[\"Questions\"].astype(str).apply(lambda x: x.split('Q:')[1].split('?')[0])\n",
    "    QA[\"Questions\"]=QA[\"Questions\"].astype(str).apply(lambda x:x.strip())\n",
    "    QA[\"Answers\"]=QA[\"Answers\"].astype(str).apply(lambda x: x.split('A:')[1].split('</p')[0])\n",
    "    return QA"
   ]
  },
  {
   "cell_type": "code",
   "execution_count": 3,
   "metadata": {},
   "outputs": [],
   "source": [
    "def get_CDC_QA():\n",
    "    URL = 'https://www.cdc.gov/coronavirus/2019-ncov/faq.html'\n",
    "    page = requests.get(URL)\n",
    "    soup = BeautifulSoup(page.content, 'html.parser')\n",
    "    results =  soup.find_all(class_='card card-accordion ')\n",
    "    Question=[]\n",
    "    Answer=[]\n",
    "    for element in results:\n",
    "        Q = element.find('div')\n",
    "        Question.append(Q)\n",
    "        A=element.find('p')\n",
    "        Answer.append(A)\n",
    "    Question=pd.DataFrame(Question)\n",
    "    Answer=pd.DataFrame(Answer)\n",
    "    QA=pd.concat([Question, Answer], axis=1, sort=False)\n",
    "    QA.columns = range(QA.shape[1])\n",
    "    QA=QA.rename(columns={0:'Questions',1:\"Answers\"})\n",
    "    QA[\"Questions\"]=QA[\"Questions\"].astype(str).apply(lambda x: x.split('role=\"heading\">')[1].split('?</span>')[0])\n",
    "    QA[\"Answers\"]=QA[\"Answers\"].astype(str).apply(lambda x: x.split('<p>')[1].split('</p>')[0])\n",
    "    QA[\"Answers\"].replace('', np.nan, inplace=True)\n",
    "    QA.dropna(subset=['Answers'], inplace=True)\n",
    "    return QA"
   ]
  },
  {
   "cell_type": "code",
   "execution_count": 5,
   "metadata": {},
   "outputs": [],
   "source": [
    "#get all FAQ source\n",
    "FDA=get_FDA_QA()\n",
    "CDC=get_CDC_QA()\n",
    "other_source=pd.read_excel(r'/Users/faye/Desktop/Chatbot/Capstone/other_source.xlsx')\n",
    "final_df=FDA.append([CDC, other_source])"
   ]
  },
  {
   "cell_type": "code",
   "execution_count": 6,
   "metadata": {},
   "outputs": [],
   "source": [
    "final_df.reset_index(drop=True,inplace=True)\n",
    "data=final_df['Questions'].apply(lambda x: x.lower())"
   ]
  },
  {
   "cell_type": "code",
   "execution_count": 14,
   "metadata": {},
   "outputs": [],
   "source": [
    "final_df.to_csv(r'/Users/faye/Desktop/Chatbot/Capstone/question.csv')"
   ]
  },
  {
   "cell_type": "code",
   "execution_count": 7,
   "metadata": {},
   "outputs": [],
   "source": [
    "#when user enter new questions:\n",
    "def ask_question(string,question_bank):\n",
    "    #get all question vector\n",
    "    question_lower=string.lower()\n",
    "    question=pd.Series([question_lower])\n",
    "    question_bank=question_bank.append(question,ignore_index=True)\n",
    "    tfidf_vectorizer=TfidfVectorizer(use_idf=True)  \n",
    "    tfidf_vectorizer_vectors=tfidf_vectorizer.fit_transform(question_bank)\n",
    "    question_vector = tfidf_vectorizer_vectors.todense()\n",
    "    return question_vector"
   ]
  },
  {
   "cell_type": "code",
   "execution_count": 8,
   "metadata": {},
   "outputs": [],
   "source": [
    "#cos similarity\n",
    "def search_best_answer(string,question_bank):\n",
    "    question_vec=ask_question(string,question_bank)\n",
    "    cos_score=[]\n",
    "    user_question_vec=question_vec[-1]\n",
    "    for i in question_vec[:-1]:\n",
    "        result = 1 - spatial.distance.cosine(user_question_vec, i)\n",
    "        cos_score.append(result)\n",
    "    max_index, max_value = max(enumerate(cos_score), key=operator.itemgetter(1))\n",
    "    return max_index"
   ]
  },
  {
   "cell_type": "code",
   "execution_count": 9,
   "metadata": {},
   "outputs": [],
   "source": [
    "def return_answer(string,question_bank):\n",
    "    index=search_best_answer(string,question_bank)\n",
    "    print(final_df['Answers'][index])"
   ]
  },
  {
   "cell_type": "code",
   "execution_count": 11,
   "metadata": {},
   "outputs": [
    {
     "name": "stdout",
     "output_type": "stream",
     "text": [
      "What's your question: what's coronavirous\n",
      "COVID-19 is the infectious disease caused by the most recently discovered coronavirus. This new virus and disease were unknown before the outbreak began in Wuhan, China, in December 2019.\n"
     ]
    }
   ],
   "source": [
    "question = input(\"What's your question: \")\n",
    "return_answer(question,data)"
   ]
  },
  {
   "cell_type": "code",
   "execution_count": null,
   "metadata": {},
   "outputs": [],
   "source": []
  }
 ],
 "metadata": {
  "kernelspec": {
   "display_name": "Python 3",
   "language": "python",
   "name": "python3"
  },
  "language_info": {
   "codemirror_mode": {
    "name": "ipython",
    "version": 3
   },
   "file_extension": ".py",
   "mimetype": "text/x-python",
   "name": "python",
   "nbconvert_exporter": "python",
   "pygments_lexer": "ipython3",
   "version": "3.7.2"
  }
 },
 "nbformat": 4,
 "nbformat_minor": 2
}
